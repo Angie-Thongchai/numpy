{
 "cells": [
  {
   "cell_type": "code",
   "execution_count": 1,
   "id": "e4864440",
   "metadata": {},
   "outputs": [],
   "source": [
    "import pandas as pd\n",
    "import numpy as np\n",
    "import matplotlib.pyplot as plt"
   ]
  },
  {
   "cell_type": "code",
   "execution_count": 16,
   "id": "48b78644",
   "metadata": {
    "scrolled": true
   },
   "outputs": [
    {
     "data": {
      "text/html": [
       "<div>\n",
       "<style scoped>\n",
       "    .dataframe tbody tr th:only-of-type {\n",
       "        vertical-align: middle;\n",
       "    }\n",
       "\n",
       "    .dataframe tbody tr th {\n",
       "        vertical-align: top;\n",
       "    }\n",
       "\n",
       "    .dataframe thead th {\n",
       "        text-align: right;\n",
       "    }\n",
       "</style>\n",
       "<table border=\"1\" class=\"dataframe\">\n",
       "  <thead>\n",
       "    <tr style=\"text-align: right;\">\n",
       "      <th></th>\n",
       "      <th>Unnamed: 0</th>\n",
       "      <th>Month</th>\n",
       "      <th>temperature</th>\n",
       "      <th>Normal_91-20</th>\n",
       "      <th>Hightest_91-20</th>\n",
       "      <th>Lowest_91-20</th>\n",
       "      <th>diff_temp-normal</th>\n",
       "      <th>diff_temp-month</th>\n",
       "      <th>diff_normal-month</th>\n",
       "      <th>hightest_23</th>\n",
       "      <th>lowest_23</th>\n",
       "    </tr>\n",
       "  </thead>\n",
       "  <tbody>\n",
       "    <tr>\n",
       "      <th>0</th>\n",
       "      <td>0</td>\n",
       "      <td>Januari</td>\n",
       "      <td>0.5</td>\n",
       "      <td>-0.9</td>\n",
       "      <td>4.1</td>\n",
       "      <td>-11.2</td>\n",
       "      <td>-0.4</td>\n",
       "      <td>0.0</td>\n",
       "      <td>0.0</td>\n",
       "      <td>0.9</td>\n",
       "      <td>-11.2</td>\n",
       "    </tr>\n",
       "    <tr>\n",
       "      <th>1</th>\n",
       "      <td>1</td>\n",
       "      <td>Febuari</td>\n",
       "      <td>0.9</td>\n",
       "      <td>-1.0</td>\n",
       "      <td>4.3</td>\n",
       "      <td>10.8</td>\n",
       "      <td>-0.1</td>\n",
       "      <td>0.4</td>\n",
       "      <td>0.1</td>\n",
       "      <td>1.0</td>\n",
       "      <td>10.8</td>\n",
       "    </tr>\n",
       "    <tr>\n",
       "      <th>2</th>\n",
       "      <td>2</td>\n",
       "      <td>Mars</td>\n",
       "      <td>4.1</td>\n",
       "      <td>1.7</td>\n",
       "      <td>4.8</td>\n",
       "      <td>-6.5</td>\n",
       "      <td>2.4</td>\n",
       "      <td>3.2</td>\n",
       "      <td>0.7</td>\n",
       "      <td>6.5</td>\n",
       "      <td>-6.5</td>\n",
       "    </tr>\n",
       "    <tr>\n",
       "      <th>3</th>\n",
       "      <td>3</td>\n",
       "      <td>April</td>\n",
       "      <td>5.6</td>\n",
       "      <td>6.3</td>\n",
       "      <td>9.1</td>\n",
       "      <td>0.8</td>\n",
       "      <td>-0.7</td>\n",
       "      <td>1.5</td>\n",
       "      <td>4.6</td>\n",
       "      <td>6.3</td>\n",
       "      <td>0.8</td>\n",
       "    </tr>\n",
       "    <tr>\n",
       "      <th>4</th>\n",
       "      <td>4</td>\n",
       "      <td>Maj</td>\n",
       "      <td>11.5</td>\n",
       "      <td>11.4</td>\n",
       "      <td>16.1</td>\n",
       "      <td>5.7</td>\n",
       "      <td>0.1</td>\n",
       "      <td>5.9</td>\n",
       "      <td>5.1</td>\n",
       "      <td>11.6</td>\n",
       "      <td>5.7</td>\n",
       "    </tr>\n",
       "    <tr>\n",
       "      <th>5</th>\n",
       "      <td>5</td>\n",
       "      <td>Juni</td>\n",
       "      <td>18.1</td>\n",
       "      <td>15.7</td>\n",
       "      <td>19.3</td>\n",
       "      <td>10.4</td>\n",
       "      <td>2.4</td>\n",
       "      <td>6.6</td>\n",
       "      <td>4.3</td>\n",
       "      <td>20.5</td>\n",
       "      <td>10.4</td>\n",
       "    </tr>\n",
       "    <tr>\n",
       "      <th>6</th>\n",
       "      <td>6</td>\n",
       "      <td>Juli</td>\n",
       "      <td>18.4</td>\n",
       "      <td>18.6</td>\n",
       "      <td>22.5</td>\n",
       "      <td>13.7</td>\n",
       "      <td>-0.2</td>\n",
       "      <td>0.3</td>\n",
       "      <td>2.9</td>\n",
       "      <td>18.6</td>\n",
       "      <td>13.7</td>\n",
       "    </tr>\n",
       "    <tr>\n",
       "      <th>7</th>\n",
       "      <td>7</td>\n",
       "      <td>Augusti</td>\n",
       "      <td>19.8</td>\n",
       "      <td>17.7</td>\n",
       "      <td>21.2</td>\n",
       "      <td>12.9</td>\n",
       "      <td>2.1</td>\n",
       "      <td>1.4</td>\n",
       "      <td>-0.9</td>\n",
       "      <td>21.9</td>\n",
       "      <td>12.9</td>\n",
       "    </tr>\n",
       "    <tr>\n",
       "      <th>8</th>\n",
       "      <td>8</td>\n",
       "      <td>September</td>\n",
       "      <td>12.2</td>\n",
       "      <td>13.1</td>\n",
       "      <td>16.0</td>\n",
       "      <td>8.5</td>\n",
       "      <td>-0.9</td>\n",
       "      <td>-7.6</td>\n",
       "      <td>-4.6</td>\n",
       "      <td>13.1</td>\n",
       "      <td>8.5</td>\n",
       "    </tr>\n",
       "    <tr>\n",
       "      <th>9</th>\n",
       "      <td>9</td>\n",
       "      <td>Oktober</td>\n",
       "      <td>10.1</td>\n",
       "      <td>7.7</td>\n",
       "      <td>11.0</td>\n",
       "      <td>3.8</td>\n",
       "      <td>2.4</td>\n",
       "      <td>-2.1</td>\n",
       "      <td>-5.4</td>\n",
       "      <td>12.5</td>\n",
       "      <td>3.8</td>\n",
       "    </tr>\n",
       "    <tr>\n",
       "      <th>10</th>\n",
       "      <td>10</td>\n",
       "      <td>November</td>\n",
       "      <td>5.5</td>\n",
       "      <td>3.6</td>\n",
       "      <td>7.1</td>\n",
       "      <td>-1.8</td>\n",
       "      <td>1.9</td>\n",
       "      <td>-4.6</td>\n",
       "      <td>-4.1</td>\n",
       "      <td>7.4</td>\n",
       "      <td>-1.8</td>\n",
       "    </tr>\n",
       "    <tr>\n",
       "      <th>11</th>\n",
       "      <td>11</td>\n",
       "      <td>December</td>\n",
       "      <td>-1.4</td>\n",
       "      <td>0.6</td>\n",
       "      <td>4.9</td>\n",
       "      <td>-6.9</td>\n",
       "      <td>-2.0</td>\n",
       "      <td>-4.1</td>\n",
       "      <td>-3.0</td>\n",
       "      <td>0.6</td>\n",
       "      <td>-6.9</td>\n",
       "    </tr>\n",
       "  </tbody>\n",
       "</table>\n",
       "</div>"
      ],
      "text/plain": [
       "    Unnamed: 0      Month  temperature  Normal_91-20  Hightest_91-20  \\\n",
       "0            0    Januari          0.5          -0.9             4.1   \n",
       "1            1    Febuari          0.9          -1.0             4.3   \n",
       "2            2       Mars          4.1           1.7             4.8   \n",
       "3            3      April          5.6           6.3             9.1   \n",
       "4            4        Maj         11.5          11.4            16.1   \n",
       "5            5       Juni         18.1          15.7            19.3   \n",
       "6            6       Juli         18.4          18.6            22.5   \n",
       "7            7    Augusti         19.8          17.7            21.2   \n",
       "8            8  September         12.2          13.1            16.0   \n",
       "9            9    Oktober         10.1           7.7            11.0   \n",
       "10          10   November          5.5           3.6             7.1   \n",
       "11          11   December         -1.4           0.6             4.9   \n",
       "\n",
       "    Lowest_91-20  diff_temp-normal  diff_temp-month  diff_normal-month  \\\n",
       "0          -11.2              -0.4              0.0                0.0   \n",
       "1           10.8              -0.1              0.4                0.1   \n",
       "2           -6.5               2.4              3.2                0.7   \n",
       "3            0.8              -0.7              1.5                4.6   \n",
       "4            5.7               0.1              5.9                5.1   \n",
       "5           10.4               2.4              6.6                4.3   \n",
       "6           13.7              -0.2              0.3                2.9   \n",
       "7           12.9               2.1              1.4               -0.9   \n",
       "8            8.5              -0.9             -7.6               -4.6   \n",
       "9            3.8               2.4             -2.1               -5.4   \n",
       "10          -1.8               1.9             -4.6               -4.1   \n",
       "11          -6.9              -2.0             -4.1               -3.0   \n",
       "\n",
       "    hightest_23  lowest_23  \n",
       "0           0.9      -11.2  \n",
       "1           1.0       10.8  \n",
       "2           6.5       -6.5  \n",
       "3           6.3        0.8  \n",
       "4          11.6        5.7  \n",
       "5          20.5       10.4  \n",
       "6          18.6       13.7  \n",
       "7          21.9       12.9  \n",
       "8          13.1        8.5  \n",
       "9          12.5        3.8  \n",
       "10          7.4       -1.8  \n",
       "11          0.6       -6.9  "
      ]
     },
     "execution_count": 16,
     "metadata": {},
     "output_type": "execute_result"
    }
   ],
   "source": [
    "#import csv temp2022\n",
    "data =pd.read_csv('temp2022.csv')\n",
    "data"
   ]
  },
  {
   "cell_type": "code",
   "execution_count": 17,
   "id": "a108d322",
   "metadata": {},
   "outputs": [
    {
     "data": {
      "text/plain": [
       "0      0.5\n",
       "1      0.9\n",
       "2      4.1\n",
       "3      5.6\n",
       "4     11.5\n",
       "5     18.1\n",
       "6     18.4\n",
       "7     19.8\n",
       "8     12.2\n",
       "9     10.1\n",
       "10     5.5\n",
       "11    -1.4\n",
       "Name: temperature, dtype: float64"
      ]
     },
     "execution_count": 17,
     "metadata": {},
     "output_type": "execute_result"
    }
   ],
   "source": [
    "data['temperature']"
   ]
  },
  {
   "cell_type": "code",
   "execution_count": 18,
   "id": "aa33d042",
   "metadata": {},
   "outputs": [
    {
     "data": {
      "text/plain": [
       "array([ 1.,  2.,  3.,  4.,  5.,  6.,  7.,  8.,  9., 10., 11., 12.])"
      ]
     },
     "execution_count": 18,
     "metadata": {},
     "output_type": "execute_result"
    }
   ],
   "source": [
    "#crate array 'x' from month and matrix \n",
    "x = np.array([1.0,2.0,3.0,4.0,5.0,6.0,7.0,8.0,9.0,10.0,11.0,12.0])\n",
    "x"
   ]
  },
  {
   "cell_type": "code",
   "execution_count": 19,
   "id": "785dca77",
   "metadata": {},
   "outputs": [
    {
     "data": {
      "text/plain": [
       "array([ 0.5,  0.9,  4.1,  5.6, 11.5, 18.1, 18.4, 19.8, 12.2, 10.1,  5.5,\n",
       "       -1.4])"
      ]
     },
     "execution_count": 19,
     "metadata": {},
     "output_type": "execute_result"
    }
   ],
   "source": [
    "# crate array 'y' from temperature and matrix\n",
    "y = np.array([0.5,0.9,4.1,5.6,11.5,18.1,18.4,19.8,12.2,10.1,5.5,-1.4])\n",
    "y"
   ]
  },
  {
   "cell_type": "code",
   "execution_count": 20,
   "id": "adcf1206",
   "metadata": {},
   "outputs": [
    {
     "data": {
      "image/png": "[encoded data removed]",
      "text/plain": [
       "<Figure size 640x480 with 1 Axes>"
      ]
     },
     "metadata": {},
     "output_type": "display_data"
    }
   ],
   "source": [
    "#crate plot\n",
    "plt.scatter(x,y, s= 20, color='red')\n",
    "plt.title('Temperature 2022')\n",
    "plt.show()"
   ]
  },
  {
   "cell_type": "code",
   "execution_count": 5,
   "id": "750d1beb",
   "metadata": {},
   "outputs": [
    {
     "data": {
      "text/plain": [
       "array([[ 1.,  1.],\n",
       "       [ 2.,  1.],\n",
       "       [ 3.,  1.],\n",
       "       [ 4.,  1.],\n",
       "       [ 5.,  1.],\n",
       "       [ 6.,  1.],\n",
       "       [ 7.,  1.],\n",
       "       [ 8.,  1.],\n",
       "       [ 9.,  1.],\n",
       "       [10.,  1.],\n",
       "       [11.,  1.],\n",
       "       [12.,  1.]])"
      ]
     },
     "execution_count": 5,
     "metadata": {},
     "output_type": "execute_result"
    }
   ],
   "source": [
    "#crate matrix kx+m; k=1, m=1\n",
    "a = []\n",
    "for i in range(0, len(x)):\n",
    " a.append(x[i])\n",
    " a.append(1)\n",
    "A = np.array(a,dtype=float)\n",
    "A = A.reshape(len(x), 2)\n",
    "A"
   ]
  },
  {
   "cell_type": "code",
   "execution_count": 6,
   "id": "27ba1fde",
   "metadata": {},
   "outputs": [
    {
     "data": {
      "text/plain": [
       "array([ 0.5,  0.9,  4.1,  5.6, 11.5, 18.1, 18.4, 19.8, 12.2, 10.1,  5.5,\n",
       "       -1.4])"
      ]
     },
     "execution_count": 6,
     "metadata": {},
     "output_type": "execute_result"
    }
   ],
   "source": [
    "Y = np.array(y,dtype=float)\n",
    "Y"
   ]
  },
  {
   "cell_type": "code",
   "execution_count": 7,
   "id": "7854f3a7",
   "metadata": {},
   "outputs": [
    {
     "data": {
      "text/plain": [
       "array([[ 1.,  2.,  3.,  4.,  5.,  6.,  7.,  8.,  9., 10., 11., 12.],\n",
       "       [ 1.,  1.,  1.,  1.,  1.,  1.,  1.,  1.,  1.,  1.,  1.,  1.]])"
      ]
     },
     "execution_count": 7,
     "metadata": {},
     "output_type": "execute_result"
    }
   ],
   "source": [
    "#create normal equation\n",
    "\n",
    "At=A.T\n",
    "At"
   ]
  },
  {
   "cell_type": "code",
   "execution_count": 8,
   "id": "963384d7",
   "metadata": {},
   "outputs": [
    {
     "data": {
      "text/plain": [
       "array([[650.,  78.],\n",
       "       [ 78.,  12.]])"
      ]
     },
     "execution_count": 8,
     "metadata": {},
     "output_type": "execute_result"
    }
   ],
   "source": [
    "A = np.dot(At, A)\n",
    "A"
   ]
  },
  {
   "cell_type": "code",
   "execution_count": 9,
   "id": "380ce0a8",
   "metadata": {},
   "outputs": [
    {
     "data": {
      "text/plain": [
       "array([744.8, 105.3])"
      ]
     },
     "execution_count": 9,
     "metadata": {},
     "output_type": "execute_result"
    }
   ],
   "source": [
    "Y = np.dot(At, Y)\n",
    "Y"
   ]
  },
  {
   "cell_type": "code",
   "execution_count": 10,
   "id": "aa6056b7",
   "metadata": {},
   "outputs": [
    {
     "name": "stdout",
     "output_type": "stream",
     "text": [
      "gauss =\n",
      " [0.42202797 6.03181818]\n"
     ]
    }
   ],
   "source": [
    "# create function Gauss Elimination\n",
    "def gaussElim(A,Y):\n",
    "    n = len(Y)\n",
    "    # Elimination phase\n",
    "    for k in range(0,n-1):\n",
    "        for i in range(k+1,n):\n",
    "            if A[i,k] != 0.0: #if not null define λ\n",
    "                \n",
    "                lam = A [i,k]/A[k,k]  #calculate the new row of the matrix\n",
    "                \n",
    "                A[i,k+1:n] = A[i,k+1:n] - lam*A[k,k+1:n]  #update vector Y\n",
    "                \n",
    "                Y[i] = Y[i] - lam*Y[k]  #backward substitution\n",
    "                \n",
    "    for k in range(n-1,-1,-1):\n",
    "        Y[k] = (Y[k] - np.dot(A[k,k+1:n],Y[k+1:n]))/A[k,k]\n",
    "    \n",
    "    return Y\n",
    "\n",
    "gauss = gaussElim(A,Y)\n",
    "print(\"gauss =\\n\",gauss)\n"
   ]
  },
  {
   "cell_type": "code",
   "execution_count": 11,
   "id": "c8e1e042",
   "metadata": {},
   "outputs": [
    {
     "name": "stdout",
     "output_type": "stream",
     "text": [
      "y=0.42x+6.03\n"
     ]
    }
   ],
   "source": [
    "# write a best line and plot a line\n",
    "k = round(gauss[0], 2)\n",
    "m = round(gauss[1], 2)\n",
    "if (m<0):\n",
    " print(f'y={k}x{m}')\n",
    "else:\n",
    " print(f'y={k}x+{m}')"
   ]
  },
  {
   "cell_type": "code",
   "execution_count": 12,
   "id": "af0353f1",
   "metadata": {
    "scrolled": true
   },
   "outputs": [
    {
     "data": {
      "image/png": "[encoded data removed]",
      "text/plain": [
       "<Figure size 640x480 with 1 Axes>"
      ]
     },
     "metadata": {},
     "output_type": "display_data"
    }
   ],
   "source": [
    "# plot\n",
    "k = 0.42\n",
    "m = 6.03\n",
    "plt.plot(x, y, 'o', label='Original data', markersize=10)\n",
    "plt.plot(x, k*x +m, 'r', label='line')\n",
    "plt.legend()\n",
    "plt.show()"
   ]
  },
  {
   "cell_type": "code",
   "execution_count": 13,
   "id": "a5f05218",
   "metadata": {},
   "outputs": [
    {
     "name": "stdout",
     "output_type": "stream",
     "text": [
      "0.03166666666666666 -0.2533333333333333 -0.23666666666666666\n"
     ]
    }
   ],
   "source": [
    "def parabola (x1,y1, x2,y2, x3,y3):\n",
    "    \n",
    "    denom = (x1-x2)*(x1-x3)*(x2*x3);\n",
    "    A = (x3 * (y2-y1) + x2 * (y1-y3) + x1 * (y3-y2)) / denom;\n",
    "    B = (x3*x3 * (y1-y2) + x2*x2 * (y3-y1) + x1*x1 * (y2-y3)) / denom;\n",
    "    C = (x2 * x3 * (x2-x3) * y1+x3 * x1 * (x3-x1) * y2+x1 * x2 * (x1-x2) * y3) / denom;\n",
    "    \n",
    "    return A,B,C\n",
    "\n",
    "#define points\n",
    "x1,y1 = [7.0,18.4]\n",
    "x2,y2 = [1.0,0.5]\n",
    "x3,y3 = [12.0,-1.4]\n",
    "\n",
    "a,b,c = parabola(x1,y2, x2,y2, x3,y3)\n",
    "print(a,b,c)"
   ]
  },
  {
   "cell_type": "code",
   "execution_count": 14,
   "id": "9f6175de",
   "metadata": {},
   "outputs": [
    {
     "data": {
      "image/png": "[encoded data removed]",
      "text/plain": [
       "<Figure size 640x480 with 1 Axes>"
      ]
     },
     "metadata": {},
     "output_type": "display_data"
    }
   ],
   "source": [
    "#define x range for while to calc parabola\n",
    "x_pos =np.array([1.0,2.0,3.0,4.0,5.0,6.0,7.0,8.0,9.0,10.0,11.0,12.0])\n",
    "y_pos =[]\n",
    "\n",
    "#Calculate y values\n",
    "\n",
    "for x in range(len(x_pos)):\n",
    "    x_val=x_pos[x]\n",
    "    y=(a*(x_val**2))+(b*x_val)+c\n",
    "    y_pos.append(y)\n",
    "    \n",
    "# Plot the parabola (+ the known points)\n",
    "plt.plot(x_pos, y_pos, linestyle='-.', color='black') # parabola line\n",
    "plt.scatter(x_pos, y_pos, color='gray') # parabola points\n",
    "plt.scatter(x1,y1,color='red',marker=\"D\",s=50) # 1st known xy\n",
    "plt.scatter(x2,y2,color='green',marker=\"D\",s=50) # 2nd known xy\n",
    "plt.scatter(x3,y3,color='yellow',marker=\"D\",s=50) # 3rd known xy\n",
    "plt.show()\n"
   ]
  },
  {
   "cell_type": "code",
   "execution_count": null,
   "id": "25ca74f9",
   "metadata": {},
   "outputs": [],
   "source": []
  }
 ],
 "metadata": {
  "kernelspec": {
   "display_name": "Python 3 (ipykernel)",
   "language": "python",
   "name": "python3"
  },
  "language_info": {
   "codemirror_mode": {
    "name": "ipython",
    "version": 3
   },
   "file_extension": ".py",
   "mimetype": "text/x-python",
   "name": "python",
   "nbconvert_exporter": "python",
   "pygments_lexer": "ipython3",
   "version": "3.9.13"
  }
 },
 "nbformat": 4,
 "nbformat_minor": 5
}
